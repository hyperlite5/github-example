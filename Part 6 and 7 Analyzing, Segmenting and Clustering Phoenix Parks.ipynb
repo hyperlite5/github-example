{
 "cells": [
  {
   "cell_type": "markdown",
   "metadata": {},
   "source": [
    "<h1 align=center><font size = 5> Part 6 & 7 Ice Cream Truck New Business Evaluation for Phoenix, Arizona</font></h1>"
   ]
  },
  {
   "cell_type": "code",
   "execution_count": 59,
   "metadata": {
    "collapsed": false,
    "jupyter": {
     "outputs_hidden": false
    }
   },
   "outputs": [
    {
     "name": "stdout",
     "output_type": "stream",
     "text": [
      "Solving environment: done\n",
      "\n",
      "\n",
      "==> WARNING: A newer version of conda exists. <==\n",
      "  current version: 4.5.11\n",
      "  latest version: 4.8.1\n",
      "\n",
      "Please update conda by running\n",
      "\n",
      "    $ conda update -n base -c defaults conda\n",
      "\n",
      "\n",
      "\n",
      "# All requested packages already installed.\n",
      "\n",
      "Solving environment: done\n",
      "\n",
      "\n",
      "==> WARNING: A newer version of conda exists. <==\n",
      "  current version: 4.5.11\n",
      "  latest version: 4.8.1\n",
      "\n",
      "Please update conda by running\n",
      "\n",
      "    $ conda update -n base -c defaults conda\n",
      "\n",
      "\n",
      "\n",
      "# All requested packages already installed.\n",
      "\n",
      "Libraries imported.\n"
     ]
    }
   ],
   "source": [
    "import numpy as np # library to handle data in a vectorized manner\n",
    "\n",
    "import pandas as pd # library for data analsysis\n",
    "pd.set_option('display.max_columns', None)\n",
    "pd.set_option('display.max_rows', None)\n",
    "\n",
    "import json # library to handle JSON files\n",
    "\n",
    "!conda install -c conda-forge geopy --yes \n",
    "from geopy.geocoders import Nominatim # convert an address into latitude and longitude values\n",
    "\n",
    "import requests # library to handle requests\n",
    "from pandas.io.json import json_normalize # tranform JSON file into a pandas dataframe\n",
    "\n",
    "# Matplotlib and associated plotting modules\n",
    "import matplotlib.cm as cm\n",
    "import matplotlib.colors as colors\n",
    "\n",
    "# import k-means from clustering stage\n",
    "from sklearn.cluster import KMeans\n",
    "\n",
    "!conda install -c conda-forge folium=0.5.0 --yes \n",
    "import folium # map rendering library\n",
    "\n",
    "print('Libraries imported.')"
   ]
  },
  {
   "cell_type": "markdown",
   "metadata": {},
   "source": [
    "<a id='item1'></a>"
   ]
  },
  {
   "cell_type": "markdown",
   "metadata": {},
   "source": [
    "## Part 6: Examine Phoenix Household Demographics"
   ]
  },
  {
   "cell_type": "code",
   "execution_count": 2,
   "metadata": {},
   "outputs": [
    {
     "name": "stdout",
     "output_type": "stream",
     "text": [
      "Matplotlib version:  3.1.1\n"
     ]
    }
   ],
   "source": [
    "# use the inline backend to generate the plots within the browser\n",
    "%matplotlib inline \n",
    "\n",
    "import matplotlib as mpl\n",
    "import matplotlib.pyplot as plt\n",
    "\n",
    "\n",
    "mpl.style.use('ggplot') # optional: for ggplot-like style\n",
    "\n",
    "# check for latest version of Matplotlib\n",
    "print ('Matplotlib version: ', mpl.__version__) # >= 2.0.0"
   ]
  },
  {
   "cell_type": "code",
   "execution_count": 5,
   "metadata": {},
   "outputs": [
    {
     "data": {
      "text/html": [
       "<div>\n",
       "<style scoped>\n",
       "    .dataframe tbody tr th:only-of-type {\n",
       "        vertical-align: middle;\n",
       "    }\n",
       "\n",
       "    .dataframe tbody tr th {\n",
       "        vertical-align: top;\n",
       "    }\n",
       "\n",
       "    .dataframe thead th {\n",
       "        text-align: right;\n",
       "    }\n",
       "</style>\n",
       "<table border=\"1\" class=\"dataframe\">\n",
       "  <thead>\n",
       "    <tr style=\"text-align: right;\">\n",
       "      <th></th>\n",
       "      <th>geoid</th>\n",
       "      <th>year</th>\n",
       "      <th>Total</th>\n",
       "      <th>Family households</th>\n",
       "      <th>Family households- Married-couple family</th>\n",
       "      <th>Family households- Other family</th>\n",
       "      <th>Family households- Other family- Male householder,no wife</th>\n",
       "      <th>Family households- Other family- Female householder,no husband</th>\n",
       "      <th>Nonfamily households</th>\n",
       "      <th>Nonfamily households- Householder living alone</th>\n",
       "      <th>Nonfamily households- Householder not living alone</th>\n",
       "    </tr>\n",
       "  </thead>\n",
       "  <tbody>\n",
       "    <tr>\n",
       "      <th>0</th>\n",
       "      <td>16000US0455000</td>\n",
       "      <td>2008</td>\n",
       "      <td>493898</td>\n",
       "      <td>308067</td>\n",
       "      <td>208802</td>\n",
       "      <td>99265</td>\n",
       "      <td>33169</td>\n",
       "      <td>66096</td>\n",
       "      <td>185831</td>\n",
       "      <td>145290</td>\n",
       "      <td>40541</td>\n",
       "    </tr>\n",
       "    <tr>\n",
       "      <th>1</th>\n",
       "      <td>16000US0455000</td>\n",
       "      <td>2009</td>\n",
       "      <td>516655</td>\n",
       "      <td>335343</td>\n",
       "      <td>227967</td>\n",
       "      <td>107376</td>\n",
       "      <td>34635</td>\n",
       "      <td>72741</td>\n",
       "      <td>181312</td>\n",
       "      <td>144382</td>\n",
       "      <td>36930</td>\n",
       "    </tr>\n",
       "    <tr>\n",
       "      <th>2</th>\n",
       "      <td>16000US0455000</td>\n",
       "      <td>2010</td>\n",
       "      <td>511432</td>\n",
       "      <td>326132</td>\n",
       "      <td>215746</td>\n",
       "      <td>110386</td>\n",
       "      <td>31407</td>\n",
       "      <td>78979</td>\n",
       "      <td>185300</td>\n",
       "      <td>145407</td>\n",
       "      <td>39893</td>\n",
       "    </tr>\n",
       "    <tr>\n",
       "      <th>3</th>\n",
       "      <td>16000US0455000</td>\n",
       "      <td>2011</td>\n",
       "      <td>519369</td>\n",
       "      <td>329717</td>\n",
       "      <td>216329</td>\n",
       "      <td>113388</td>\n",
       "      <td>35719</td>\n",
       "      <td>77669</td>\n",
       "      <td>189652</td>\n",
       "      <td>150800</td>\n",
       "      <td>38852</td>\n",
       "    </tr>\n",
       "    <tr>\n",
       "      <th>4</th>\n",
       "      <td>16000US0455000</td>\n",
       "      <td>2012</td>\n",
       "      <td>521555</td>\n",
       "      <td>326255</td>\n",
       "      <td>208149</td>\n",
       "      <td>118106</td>\n",
       "      <td>33709</td>\n",
       "      <td>84397</td>\n",
       "      <td>195300</td>\n",
       "      <td>152745</td>\n",
       "      <td>42555</td>\n",
       "    </tr>\n",
       "  </tbody>\n",
       "</table>\n",
       "</div>"
      ],
      "text/plain": [
       "            geoid  year   Total  Family households  \\\n",
       "0  16000US0455000  2008  493898             308067   \n",
       "1  16000US0455000  2009  516655             335343   \n",
       "2  16000US0455000  2010  511432             326132   \n",
       "3  16000US0455000  2011  519369             329717   \n",
       "4  16000US0455000  2012  521555             326255   \n",
       "\n",
       "   Family households- Married-couple family  Family households- Other family  \\\n",
       "0                                    208802                            99265   \n",
       "1                                    227967                           107376   \n",
       "2                                    215746                           110386   \n",
       "3                                    216329                           113388   \n",
       "4                                    208149                           118106   \n",
       "\n",
       "   Family households- Other family- Male householder,no wife  \\\n",
       "0                                              33169           \n",
       "1                                              34635           \n",
       "2                                              31407           \n",
       "3                                              35719           \n",
       "4                                              33709           \n",
       "\n",
       "   Family households- Other family- Female householder,no husband  \\\n",
       "0                                              66096                \n",
       "1                                              72741                \n",
       "2                                              78979                \n",
       "3                                              77669                \n",
       "4                                              84397                \n",
       "\n",
       "   Nonfamily households  Nonfamily households- Householder living alone  \\\n",
       "0                185831                                          145290   \n",
       "1                181312                                          144382   \n",
       "2                185300                                          145407   \n",
       "3                189652                                          150800   \n",
       "4                195300                                          152745   \n",
       "\n",
       "   Nonfamily households- Householder not living alone  \n",
       "0                                              40541   \n",
       "1                                              36930   \n",
       "2                                              39893   \n",
       "3                                              38852   \n",
       "4                                              42555   "
      ]
     },
     "execution_count": 5,
     "metadata": {},
     "output_type": "execute_result"
    }
   ],
   "source": [
    "Household_data = pd.read_csv(\"https://www.phoenixopendata.com/dataset/33ab1c58-d8a9-46fc-b65e-50a62d8eb928/resource/29c9d1b5-3620-4622-909c-e3b2eab59a35/download/phoenix-az-household-type.csv\", index_col=False)\n",
    "Household_data.head()"
   ]
  },
  {
   "cell_type": "code",
   "execution_count": 6,
   "metadata": {},
   "outputs": [],
   "source": [
    "Household_data.drop(['geoid'], axis=1, inplace=True)"
   ]
  },
  {
   "cell_type": "code",
   "execution_count": 7,
   "metadata": {},
   "outputs": [
    {
     "data": {
      "text/html": [
       "<div>\n",
       "<style scoped>\n",
       "    .dataframe tbody tr th:only-of-type {\n",
       "        vertical-align: middle;\n",
       "    }\n",
       "\n",
       "    .dataframe tbody tr th {\n",
       "        vertical-align: top;\n",
       "    }\n",
       "\n",
       "    .dataframe thead th {\n",
       "        text-align: right;\n",
       "    }\n",
       "</style>\n",
       "<table border=\"1\" class=\"dataframe\">\n",
       "  <thead>\n",
       "    <tr style=\"text-align: right;\">\n",
       "      <th></th>\n",
       "      <th>year</th>\n",
       "      <th>Total</th>\n",
       "      <th>Family households</th>\n",
       "      <th>Family households- Married-couple family</th>\n",
       "      <th>Family households- Other family</th>\n",
       "      <th>Family households- Other family- Male householder,no wife</th>\n",
       "      <th>Family households- Other family- Female householder,no husband</th>\n",
       "      <th>Nonfamily households</th>\n",
       "      <th>Nonfamily households- Householder living alone</th>\n",
       "      <th>Nonfamily households- Householder not living alone</th>\n",
       "    </tr>\n",
       "  </thead>\n",
       "  <tbody>\n",
       "    <tr>\n",
       "      <th>0</th>\n",
       "      <td>2008</td>\n",
       "      <td>493898</td>\n",
       "      <td>308067</td>\n",
       "      <td>208802</td>\n",
       "      <td>99265</td>\n",
       "      <td>33169</td>\n",
       "      <td>66096</td>\n",
       "      <td>185831</td>\n",
       "      <td>145290</td>\n",
       "      <td>40541</td>\n",
       "    </tr>\n",
       "    <tr>\n",
       "      <th>1</th>\n",
       "      <td>2009</td>\n",
       "      <td>516655</td>\n",
       "      <td>335343</td>\n",
       "      <td>227967</td>\n",
       "      <td>107376</td>\n",
       "      <td>34635</td>\n",
       "      <td>72741</td>\n",
       "      <td>181312</td>\n",
       "      <td>144382</td>\n",
       "      <td>36930</td>\n",
       "    </tr>\n",
       "    <tr>\n",
       "      <th>2</th>\n",
       "      <td>2010</td>\n",
       "      <td>511432</td>\n",
       "      <td>326132</td>\n",
       "      <td>215746</td>\n",
       "      <td>110386</td>\n",
       "      <td>31407</td>\n",
       "      <td>78979</td>\n",
       "      <td>185300</td>\n",
       "      <td>145407</td>\n",
       "      <td>39893</td>\n",
       "    </tr>\n",
       "    <tr>\n",
       "      <th>3</th>\n",
       "      <td>2011</td>\n",
       "      <td>519369</td>\n",
       "      <td>329717</td>\n",
       "      <td>216329</td>\n",
       "      <td>113388</td>\n",
       "      <td>35719</td>\n",
       "      <td>77669</td>\n",
       "      <td>189652</td>\n",
       "      <td>150800</td>\n",
       "      <td>38852</td>\n",
       "    </tr>\n",
       "    <tr>\n",
       "      <th>4</th>\n",
       "      <td>2012</td>\n",
       "      <td>521555</td>\n",
       "      <td>326255</td>\n",
       "      <td>208149</td>\n",
       "      <td>118106</td>\n",
       "      <td>33709</td>\n",
       "      <td>84397</td>\n",
       "      <td>195300</td>\n",
       "      <td>152745</td>\n",
       "      <td>42555</td>\n",
       "    </tr>\n",
       "  </tbody>\n",
       "</table>\n",
       "</div>"
      ],
      "text/plain": [
       "   year   Total  Family households  Family households- Married-couple family  \\\n",
       "0  2008  493898             308067                                    208802   \n",
       "1  2009  516655             335343                                    227967   \n",
       "2  2010  511432             326132                                    215746   \n",
       "3  2011  519369             329717                                    216329   \n",
       "4  2012  521555             326255                                    208149   \n",
       "\n",
       "   Family households- Other family  \\\n",
       "0                            99265   \n",
       "1                           107376   \n",
       "2                           110386   \n",
       "3                           113388   \n",
       "4                           118106   \n",
       "\n",
       "   Family households- Other family- Male householder,no wife  \\\n",
       "0                                              33169           \n",
       "1                                              34635           \n",
       "2                                              31407           \n",
       "3                                              35719           \n",
       "4                                              33709           \n",
       "\n",
       "   Family households- Other family- Female householder,no husband  \\\n",
       "0                                              66096                \n",
       "1                                              72741                \n",
       "2                                              78979                \n",
       "3                                              77669                \n",
       "4                                              84397                \n",
       "\n",
       "   Nonfamily households  Nonfamily households- Householder living alone  \\\n",
       "0                185831                                          145290   \n",
       "1                181312                                          144382   \n",
       "2                185300                                          145407   \n",
       "3                189652                                          150800   \n",
       "4                195300                                          152745   \n",
       "\n",
       "   Nonfamily households- Householder not living alone  \n",
       "0                                              40541   \n",
       "1                                              36930   \n",
       "2                                              39893   \n",
       "3                                              38852   \n",
       "4                                              42555   "
      ]
     },
     "execution_count": 7,
     "metadata": {},
     "output_type": "execute_result"
    }
   ],
   "source": [
    "Household_data.head()"
   ]
  },
  {
   "cell_type": "code",
   "execution_count": 8,
   "metadata": {},
   "outputs": [
    {
     "data": {
      "text/html": [
       "<div>\n",
       "<style scoped>\n",
       "    .dataframe tbody tr th:only-of-type {\n",
       "        vertical-align: middle;\n",
       "    }\n",
       "\n",
       "    .dataframe tbody tr th {\n",
       "        vertical-align: top;\n",
       "    }\n",
       "\n",
       "    .dataframe thead th {\n",
       "        text-align: right;\n",
       "    }\n",
       "</style>\n",
       "<table border=\"1\" class=\"dataframe\">\n",
       "  <thead>\n",
       "    <tr style=\"text-align: right;\">\n",
       "      <th></th>\n",
       "      <th>Total</th>\n",
       "      <th>Family households</th>\n",
       "      <th>Family households- Married-couple family</th>\n",
       "      <th>Family households- Other family</th>\n",
       "      <th>Family households- Other family- Male householder,no wife</th>\n",
       "      <th>Family households- Other family- Female householder,no husband</th>\n",
       "      <th>Nonfamily households</th>\n",
       "      <th>Nonfamily households- Householder living alone</th>\n",
       "      <th>Nonfamily households- Householder not living alone</th>\n",
       "    </tr>\n",
       "    <tr>\n",
       "      <th>year</th>\n",
       "      <th></th>\n",
       "      <th></th>\n",
       "      <th></th>\n",
       "      <th></th>\n",
       "      <th></th>\n",
       "      <th></th>\n",
       "      <th></th>\n",
       "      <th></th>\n",
       "      <th></th>\n",
       "    </tr>\n",
       "  </thead>\n",
       "  <tbody>\n",
       "    <tr>\n",
       "      <th>2008</th>\n",
       "      <td>493898</td>\n",
       "      <td>308067</td>\n",
       "      <td>208802</td>\n",
       "      <td>99265</td>\n",
       "      <td>33169</td>\n",
       "      <td>66096</td>\n",
       "      <td>185831</td>\n",
       "      <td>145290</td>\n",
       "      <td>40541</td>\n",
       "    </tr>\n",
       "    <tr>\n",
       "      <th>2009</th>\n",
       "      <td>516655</td>\n",
       "      <td>335343</td>\n",
       "      <td>227967</td>\n",
       "      <td>107376</td>\n",
       "      <td>34635</td>\n",
       "      <td>72741</td>\n",
       "      <td>181312</td>\n",
       "      <td>144382</td>\n",
       "      <td>36930</td>\n",
       "    </tr>\n",
       "    <tr>\n",
       "      <th>2010</th>\n",
       "      <td>511432</td>\n",
       "      <td>326132</td>\n",
       "      <td>215746</td>\n",
       "      <td>110386</td>\n",
       "      <td>31407</td>\n",
       "      <td>78979</td>\n",
       "      <td>185300</td>\n",
       "      <td>145407</td>\n",
       "      <td>39893</td>\n",
       "    </tr>\n",
       "    <tr>\n",
       "      <th>2011</th>\n",
       "      <td>519369</td>\n",
       "      <td>329717</td>\n",
       "      <td>216329</td>\n",
       "      <td>113388</td>\n",
       "      <td>35719</td>\n",
       "      <td>77669</td>\n",
       "      <td>189652</td>\n",
       "      <td>150800</td>\n",
       "      <td>38852</td>\n",
       "    </tr>\n",
       "    <tr>\n",
       "      <th>2012</th>\n",
       "      <td>521555</td>\n",
       "      <td>326255</td>\n",
       "      <td>208149</td>\n",
       "      <td>118106</td>\n",
       "      <td>33709</td>\n",
       "      <td>84397</td>\n",
       "      <td>195300</td>\n",
       "      <td>152745</td>\n",
       "      <td>42555</td>\n",
       "    </tr>\n",
       "  </tbody>\n",
       "</table>\n",
       "</div>"
      ],
      "text/plain": [
       "       Total  Family households  Family households- Married-couple family  \\\n",
       "year                                                                        \n",
       "2008  493898             308067                                    208802   \n",
       "2009  516655             335343                                    227967   \n",
       "2010  511432             326132                                    215746   \n",
       "2011  519369             329717                                    216329   \n",
       "2012  521555             326255                                    208149   \n",
       "\n",
       "      Family households- Other family  \\\n",
       "year                                    \n",
       "2008                            99265   \n",
       "2009                           107376   \n",
       "2010                           110386   \n",
       "2011                           113388   \n",
       "2012                           118106   \n",
       "\n",
       "      Family households- Other family- Male householder,no wife  \\\n",
       "year                                                              \n",
       "2008                                              33169           \n",
       "2009                                              34635           \n",
       "2010                                              31407           \n",
       "2011                                              35719           \n",
       "2012                                              33709           \n",
       "\n",
       "      Family households- Other family- Female householder,no husband  \\\n",
       "year                                                                   \n",
       "2008                                              66096                \n",
       "2009                                              72741                \n",
       "2010                                              78979                \n",
       "2011                                              77669                \n",
       "2012                                              84397                \n",
       "\n",
       "      Nonfamily households  Nonfamily households- Householder living alone  \\\n",
       "year                                                                         \n",
       "2008                185831                                          145290   \n",
       "2009                181312                                          144382   \n",
       "2010                185300                                          145407   \n",
       "2011                189652                                          150800   \n",
       "2012                195300                                          152745   \n",
       "\n",
       "      Nonfamily households- Householder not living alone  \n",
       "year                                                      \n",
       "2008                                              40541   \n",
       "2009                                              36930   \n",
       "2010                                              39893   \n",
       "2011                                              38852   \n",
       "2012                                              42555   "
      ]
     },
     "execution_count": 8,
     "metadata": {},
     "output_type": "execute_result"
    }
   ],
   "source": [
    "Household_data.set_index('year', inplace=True)\n",
    "Household_data.head()"
   ]
  },
  {
   "cell_type": "code",
   "execution_count": 9,
   "metadata": {},
   "outputs": [
    {
     "data": {
      "text/plain": [
       "year\n",
       "2008    308067\n",
       "2009    335343\n",
       "2010    326132\n",
       "2011    329717\n",
       "2012    326255\n",
       "Name: Family households, dtype: int64"
      ]
     },
     "execution_count": 9,
     "metadata": {},
     "output_type": "execute_result"
    }
   ],
   "source": [
    "Family_Households = Household_data['Family households']\n",
    "Family_Households.head()"
   ]
  },
  {
   "cell_type": "code",
   "execution_count": 10,
   "metadata": {},
   "outputs": [
    {
     "data": {
      "text/plain": [
       "Text(0.5, 0, 'Years')"
      ]
     },
     "execution_count": 10,
     "metadata": {},
     "output_type": "execute_result"
    },
    {
     "data": {
      "image/png": "[encoded data removed]",
      "text/plain": [
       "<Figure size 432x288 with 1 Axes>"
      ]
     },
     "metadata": {
      "needs_background": "light"
     },
     "output_type": "display_data"
    }
   ],
   "source": [
    "Family_Households.plot(kind='line')\n",
    "\n",
    "plt.title('Number of Family Households in Phoenix')\n",
    "plt.ylabel('Number of Households')\n",
    "plt.xlabel('Years')\n"
   ]
  },
  {
   "cell_type": "code",
   "execution_count": 11,
   "metadata": {},
   "outputs": [
    {
     "data": {
      "image/png": "[encoded data removed]",
      "text/plain": [
       "<Figure size 1440x720 with 1 Axes>"
      ]
     },
     "metadata": {
      "needs_background": "light"
     },
     "output_type": "display_data"
    }
   ],
   "source": [
    "\n",
    "Household_data.plot(kind='area', \n",
    "             stacked=False,\n",
    "             figsize=(20, 10), # pass a tuple (x, y) size\n",
    "             )\n",
    "\n",
    "plt.title('Phoenix Households by Type')\n",
    "plt.ylabel('Number of Households')\n",
    "plt.xlabel('Years')\n",
    "\n",
    "plt.show()"
   ]
  },
  {
   "cell_type": "code",
   "execution_count": null,
   "metadata": {},
   "outputs": [],
   "source": []
  },
  {
   "cell_type": "code",
   "execution_count": 12,
   "metadata": {},
   "outputs": [
    {
     "data": {
      "image/png": "[encoded data removed]",
      "text/plain": [
       "<Figure size 576x360 with 1 Axes>"
      ]
     },
     "metadata": {
      "needs_background": "light"
     },
     "output_type": "display_data"
    }
   ],
   "source": [
    "Family_Households.plot(kind='hist', figsize=(8, 5))\n",
    "\n",
    "plt.title('Number of Family Households') # add a title to the histogram\n",
    "plt.ylabel('Number of Family Households') # add y-label\n",
    "plt.xlabel('N') # add x-label\n",
    "\n",
    "plt.show()"
   ]
  },
  {
   "cell_type": "code",
   "execution_count": 13,
   "metadata": {},
   "outputs": [
    {
     "data": {
      "image/png": "[encoded data removed]",
      "text/plain": [
       "<Figure size 576x432 with 1 Axes>"
      ]
     },
     "metadata": {
      "needs_background": "light"
     },
     "output_type": "display_data"
    }
   ],
   "source": [
    "Family_Households.plot(kind='box', figsize=(8, 6))\n",
    "\n",
    "plt.title('Box plot of Family Households between 2008 to 2017')\n",
    "plt.ylabel('Number of Family Households')\n",
    "\n",
    "plt.show()"
   ]
  },
  {
   "cell_type": "markdown",
   "metadata": {},
   "source": [
    "## Part 7: Examine Phoenix Age Demographics"
   ]
  },
  {
   "cell_type": "code",
   "execution_count": 67,
   "metadata": {},
   "outputs": [
    {
     "data": {
      "text/html": [
       "<div>\n",
       "<style scoped>\n",
       "    .dataframe tbody tr th:only-of-type {\n",
       "        vertical-align: middle;\n",
       "    }\n",
       "\n",
       "    .dataframe tbody tr th {\n",
       "        vertical-align: top;\n",
       "    }\n",
       "\n",
       "    .dataframe thead th {\n",
       "        text-align: right;\n",
       "    }\n",
       "</style>\n",
       "<table border=\"1\" class=\"dataframe\">\n",
       "  <thead>\n",
       "    <tr style=\"text-align: right;\">\n",
       "      <th></th>\n",
       "      <th>year</th>\n",
       "      <th>title_field</th>\n",
       "      <th>value</th>\n",
       "    </tr>\n",
       "  </thead>\n",
       "  <tbody>\n",
       "    <tr>\n",
       "      <th>0</th>\n",
       "      <td>2015</td>\n",
       "      <td>Total Population</td>\n",
       "      <td>1563001</td>\n",
       "    </tr>\n",
       "    <tr>\n",
       "      <th>1</th>\n",
       "      <td>2015</td>\n",
       "      <td>Male Population</td>\n",
       "      <td>786833</td>\n",
       "    </tr>\n",
       "    <tr>\n",
       "      <th>2</th>\n",
       "      <td>2015</td>\n",
       "      <td>Male Under 5 years</td>\n",
       "      <td>60464</td>\n",
       "    </tr>\n",
       "    <tr>\n",
       "      <th>3</th>\n",
       "      <td>2015</td>\n",
       "      <td>Male 5 to 9 years</td>\n",
       "      <td>60456</td>\n",
       "    </tr>\n",
       "    <tr>\n",
       "      <th>4</th>\n",
       "      <td>2015</td>\n",
       "      <td>Male 10 to 14 years</td>\n",
       "      <td>61339</td>\n",
       "    </tr>\n",
       "    <tr>\n",
       "      <th>5</th>\n",
       "      <td>2015</td>\n",
       "      <td>Male 15 to 17 years</td>\n",
       "      <td>33349</td>\n",
       "    </tr>\n",
       "  </tbody>\n",
       "</table>\n",
       "</div>"
      ],
      "text/plain": [
       "   year          title_field    value\n",
       "0  2015     Total Population  1563001\n",
       "1  2015      Male Population   786833\n",
       "2  2015   Male Under 5 years    60464\n",
       "3  2015    Male 5 to 9 years    60456\n",
       "4  2015  Male 10 to 14 years    61339\n",
       "5  2015  Male 15 to 17 years    33349"
      ]
     },
     "execution_count": 67,
     "metadata": {},
     "output_type": "execute_result"
    }
   ],
   "source": [
    "data1 = pd.read_csv(\"https://www.phoenixopendata.com/dataset/fd0400b1-f62f-4d4e-9a88-253798891158/resource/6f460cd1-d0aa-4005-aadb-c371772cbd7b/download/phoenixazdemographic.csv\", index_col=False)\n",
    "data1.head(6)"
   ]
  },
  {
   "cell_type": "code",
   "execution_count": null,
   "metadata": {},
   "outputs": [],
   "source": []
  },
  {
   "cell_type": "code",
   "execution_count": null,
   "metadata": {},
   "outputs": [],
   "source": []
  },
  {
   "cell_type": "code",
   "execution_count": 73,
   "metadata": {},
   "outputs": [
    {
     "name": "stdout",
     "output_type": "stream",
     "text": [
      "              year                                        title_field   value\n",
      "2             2015                                 Male Under 5 years   60464\n",
      "3             2015                                  Male 5 to 9 years   60456\n",
      "4             2015                                Male 10 to 14 years   61339\n",
      "5             2015                                Male 15 to 17 years   33349\n",
      "Sum Under 18  8060  Male Under 5 yearsMale 5 to 9 yearsMale 10 to ...  215608\n"
     ]
    }
   ],
   "source": [
    "df3 = data1[(data1['title_field'].isin(['Male Under 5 years', 'Male 5 to 9 years', 'Male 10 to 14 years', 'Male 15 to 17 years'])) & (data1['year'].isin(['2015']))]\n",
    "df3.loc['Sum Under 18'] = df3.sum()\n",
    "print (df3)"
   ]
  },
  {
   "cell_type": "code",
   "execution_count": 74,
   "metadata": {},
   "outputs": [
    {
     "name": "stdout",
     "output_type": "stream",
     "text": [
      "              year                                        title_field   value\n",
      "26            2015                               Female Under 5 years   52735\n",
      "27            2015                                Female 5 to 9 years   55631\n",
      "28            2015                              Female 10 to 14 years   53673\n",
      "29            2015                              Female 15 to 17 years   33086\n",
      "Sum Under 18  8060  Female Under 5 yearsFemale 5 to 9 yearsFemale ...  195125\n"
     ]
    }
   ],
   "source": [
    "df4 = data1[(data1['title_field'].isin(['Female Under 5 years', 'Female 5 to 9 years', 'Female 10 to 14 years', 'Female 15 to 17 years'])) & (data1['year'].isin(['2015']))]\n",
    "df4.loc['Sum Under 18'] = df4.sum()\n",
    "print (df4)"
   ]
  },
  {
   "cell_type": "code",
   "execution_count": null,
   "metadata": {},
   "outputs": [],
   "source": [
    "Population in 2015 under 18"
   ]
  },
  {
   "cell_type": "code",
   "execution_count": 76,
   "metadata": {},
   "outputs": [
    {
     "data": {
      "text/plain": [
       "0.26278486066227724"
      ]
     },
     "execution_count": 76,
     "metadata": {},
     "output_type": "execute_result"
    }
   ],
   "source": [
    "#added the female and male under 18 population together and divided by total population\n",
    "(195125+215608)/1563001"
   ]
  }
 ],
 "metadata": {
  "kernelspec": {
   "display_name": "Python",
   "language": "python",
   "name": "conda-env-python-py"
  },
  "language_info": {
   "codemirror_mode": {
    "name": "ipython",
    "version": 3
   },
   "file_extension": ".py",
   "mimetype": "text/x-python",
   "name": "python",
   "nbconvert_exporter": "python",
   "pygments_lexer": "ipython3",
   "version": "3.6.7"
  },
  "widgets": {
   "state": {},
   "version": "1.1.2"
  }
 },
 "nbformat": 4,
 "nbformat_minor": 4
}
